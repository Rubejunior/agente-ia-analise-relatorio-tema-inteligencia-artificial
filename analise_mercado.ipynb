{
 "cells": [
  {
   "cell_type": "code",
   "execution_count": 18,
   "id": "7ef71f0b",
   "metadata": {},
   "outputs": [
    {
     "data": {
      "text/plain": [
       "False"
      ]
     },
     "execution_count": 18,
     "metadata": {},
     "output_type": "execute_result"
    }
   ],
   "source": [
    "from dotenv import load_dotenv, find_dotenv\n",
    "load_dotenv(find_dotenv())"
   ]
  },
  {
   "cell_type": "code",
   "execution_count": 19,
   "id": "9c254b27",
   "metadata": {},
   "outputs": [],
   "source": [
    "from crewai import Agent, Task, Crew"
   ]
  },
  {
   "cell_type": "markdown",
   "id": "e294dfa6",
   "metadata": {},
   "source": [
    "Agentes:\n",
    "-Pesquisador de mercado\n",
    "-Análista de tendências\n",
    "-Redator de relatório\n"
   ]
  },
  {
   "cell_type": "code",
   "execution_count": 20,
   "id": "7543b190",
   "metadata": {},
   "outputs": [],
   "source": [
    "pesquisador = Agent(\n",
    "    role=\"Pesquisador de mercado\",\n",
    "    goal=\"Coletar e organizar informações relavantes sobre {sector}\",\n",
    "    backstory=\"\"\"\n",
    "    Você é um pesquisador experiente que analisa tendência de mercado e coleta dados relevantes \n",
    "    sobre {sector}. Seu trabalho é garantir que todas as informações estajam atualizadas e bem documetadas.\n",
    "    \"\"\",\n",
    "    allow_delegation=False,\n",
    "    verbose=True,\n",
    ")"
   ]
  },
  {
   "cell_type": "code",
   "execution_count": 21,
   "id": "2d4d7ef7",
   "metadata": {},
   "outputs": [],
   "source": [
    "analista = Agent(\n",
    "    role=\"Analista de tendências\",\n",
    "    goal=\"Analisar os dados do setor {sector} e identificar padrões e oportunidades\",\n",
    "    backstory=\"\"\"\n",
    "    Você é um analista de mercado que examina os dados coletados para identificar tendências emergentes, \n",
    "    oportunidades e ameaças no setor {sector}\n",
    "\"\"\",\n",
    "    allow_delegation=False,\n",
    "    verbose=True,\n",
    ")"
   ]
  },
  {
   "cell_type": "code",
   "execution_count": 22,
   "id": "ea009066",
   "metadata": {},
   "outputs": [],
   "source": [
    "redator = Agent(\n",
    "    role=\"Redator de Relatórios\",\n",
    "    goal=\"Elaborar um relatório consolidado sobre a análise de mercado do setor {sector}.\",\n",
    "    backstory=\"\"\"\n",
    "    Você é um redator profissional que transforma análises de mercado em um relatório\n",
    "    estruturado e compreensível para tomadores de decisão. \n",
    "\"\"\",\n",
    "    allow_delegation=False,\n",
    "    verbose=True,\n",
    ")"
   ]
  },
  {
   "cell_type": "code",
   "execution_count": 30,
   "id": "3c7655ad",
   "metadata": {},
   "outputs": [],
   "source": [
    "coleta_dados = Task(\n",
    "    description=(\n",
    "        \"1. Pesquisar e coletar informações atualizadas sobre {sector}.\"\n",
    "        \"2. Identificar os principais players, tendências e estátisticas do setor.\"\n",
    "        \"3. Organizar o documento de forma clara para análise.\"\n",
    "    ),\n",
    "    expected_output=\"Um documento estruturado contendo dados de mercado sobre {sector}\",\n",
    "    agent=pesquisador\n",
    ")"
   ]
  },
  {
   "cell_type": "code",
   "execution_count": 31,
   "id": "f0cef2d2",
   "metadata": {},
   "outputs": [],
   "source": [
    "analise_tendencias = Task(\n",
    "    description=(\n",
    "        \"1. Examinar os dados coletados pelo Pesquisador de Mercado.\"\n",
    "        \"2. Identificar padrões, tendências emergênntes e oportunidades do {sector}\"\n",
    "        \"3. Elaborar uma análise detalhada destacando os principais pontos.\"\n",
    "    ),\n",
    "    expected_output=\"Um relatório com inseghts e tendências baseados em dados do setor {sector}\",\n",
    "    agent=analista\n",
    ")"
   ]
  },
  {
   "cell_type": "code",
   "execution_count": 33,
   "id": "62cc9707",
   "metadata": {},
   "outputs": [],
   "source": [
    "redacao_relatorio = Task(\n",
    "    description=(\n",
    "        \"1. Usar a análise de tendências para criar um relatório detalhado sobre {sector}\"\n",
    "        \"2. Garantir que o relatório seja bem estruturado e compreensível. \"\n",
    "        \"3. Elaborar uma análise detalhada destacando os principais pontos\"\n",
    "    ),\n",
    "    expected_output=\"Um relatório de análise de mercado em formato Markdown, pronto para leitura e apresentação.\",\n",
    "    agent=redator\n",
    ")"
   ]
  },
  {
   "cell_type": "code",
   "execution_count": 36,
   "id": "fb139632-20e1-41e7-8c0b-2593fe960f34",
   "metadata": {},
   "outputs": [],
   "source": [
    "crew = Crew(\n",
    "    agents = [pesquisador, analista, redator],\n",
    "    tasks = [coleta_dados, analise_tendencias, redacao_relatorio],\n",
    "    verbose = True       \n",
    ")"
   ]
  },
 
